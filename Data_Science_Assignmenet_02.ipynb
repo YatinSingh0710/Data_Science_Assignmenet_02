{
  "metadata": {
    "kernelspec": {
      "name": "python",
      "display_name": "Python (Pyodide)",
      "language": "python"
    },
    "language_info": {
      "codemirror_mode": {
        "name": "python",
        "version": 3
      },
      "file_extension": ".py",
      "mimetype": "text/x-python",
      "name": "python",
      "nbconvert_exporter": "python",
      "pygments_lexer": "ipython3",
      "version": "3.8"
    }
  },
  "nbformat_minor": 5,
  "nbformat": 4,
  "cells": [
    {
      "id": "e01215a4-60c8-4fc2-b693-c5b24c17b22d",
      "cell_type": "code",
      "source": "#Q1. Which keyword is used to create a function? Create a function to return a list of odd numbers in the range of 1 to 25.\n\n\n\n# Function to return a list of odd numbers from 1 to 25\ndef get_odd_numbers():\n    # Using list comprehension to filter odd numbers\n    return [num for num in range(1, 26) if num % 2 != 0]\n\n# Calling the function and printing the result\nodd_numbers = get_odd_numbers()\nprint(\"List of odd numbers from 1 to 25:\", odd_numbers)\n",
      "metadata": {
        "trusted": true
      },
      "outputs": [
        {
          "name": "stdout",
          "output_type": "stream",
          "text": "List of odd numbers from 1 to 25: [1, 3, 5, 7, 9, 11, 13, 15, 17, 19, 21, 23, 25]\n"
        }
      ],
      "execution_count": 1
    },
    {
      "id": "0b87652e-611d-428a-a04a-97b4633bbe69",
      "cell_type": "code",
      "source": "#Q2. Why *args and **kwargs is used in some functions? Create a function each for *args and **kwargs to demonstrate their use.\n\n#In Python, *args and **kwargs allow you to handle functions with a variable number of arguments.  \n# *args lets you pass a variable number of **positional arguments** to a function. \n# **kwargs allows you to pass a variable number of **keyword arguments** (i.e., named arguments) to a function.\n\n\n# Function to demonstrate the use of *args\ndef sum_numbers(*args):\n    \"\"\"\n    This function accepts a variable number of positional arguments\n    and returns their sum.\n    \"\"\"\n    return sum(args)\n\n# Testing the sum_numbers function with various numbers\nresult_sum = sum_numbers(10, 20, 30, 40)\nprint(\"Sum using *args:\", result_sum)\n\n\n# Function to demonstrate the use of **kwargs\ndef print_details(**kwargs):\n    \"\"\"\n    This function accepts a variable number of keyword arguments\n    and prints each key-value pair.\n    \"\"\"\n    for key, value in kwargs.items():\n        print(f\"{key}: {value}\")\n\n# Testing the print_details function with various keyword arguments\nprint(\"\\nDetails using **kwargs:\")\nprint_details(name=\"Rahul\", age=22, course=\"B.Com\", university=\"Delhi University\")\n\n",
      "metadata": {
        "trusted": true
      },
      "outputs": [
        {
          "name": "stdout",
          "output_type": "stream",
          "text": "Sum using *args: 100\n\nDetails using **kwargs:\nname: Rahul\nage: 22\ncourse: B.Com\nuniversity: Delhi University\n"
        }
      ],
      "execution_count": 2
    },
    {
      "id": "57fdfa9d-3f92-4964-9076-f929731ed55e",
      "cell_type": "code",
      "source": "#Q3. What is an iterator in python? Name the method used to initialise the iterator object and the method used for iteration. Use these methods to print the first five elements of the given list [2, 4, 6, 8, 10, 12, 14, 16, 18, 20].\n\n#An iterator in Python is an object that enables traversing through all the elements of a collection (like lists, tuples, etc.) one at a time without needing to index them directly. An iterator implements the iterator protocol which consists of two main methods:\n# **`__iter__()`**: This method returns the iterator object itself and is used to initialise the iterator.\n# **`__next__()`**: This method returns the next item from the collection and raises a `StopIteration` exception when there are no more items.\n\n#In practice, the built-in functions `iter()` and `next()` are used, which internally call `__iter__()` and `__next__()`, respectively.\n\n\n# Given list of numbers\nnumbers = [2, 4, 6, 8, 10, 12, 14, 16, 18, 20]\n\n# Initialising the iterator using the iter() function which calls __iter__()\nnumbers_iterator = iter(numbers)\n\nprint(\"The first five elements of the list:\")\n\n# Iterating using the next() function which calls __next__()\nfor _ in range(5):\n    print(next(numbers_iterator))\n",
      "metadata": {
        "trusted": true
      },
      "outputs": [
        {
          "name": "stdout",
          "output_type": "stream",
          "text": "The first five elements of the list:\n2\n4\n6\n8\n10\n"
        }
      ],
      "execution_count": 3
    },
    {
      "id": "50bef5ce-465d-4a13-87d1-89ec9eb7da5b",
      "cell_type": "code",
      "source": "#Q4. What is a generator function in python? Why yield keyword is used? Give an example of a generatorfunction.\n\n#A generator function in Python is a special type of function that returns an iterator, which generates values one at a time and only when required (i.e., lazily). This is particularly useful when dealing with large datasets or streams of data, as it avoids storing the entire sequence in memory.\n\n#The **`yield`** keyword is used in a generator function to produce a value and pause the function's execution, preserving its state. When the generator's next value is requested (using the `next()` function or via a loop), the function resumes execution from the point where it yielded the last value.\n  \n### Example:\n#Below is an example of a generator function that yields the square of numbers from 0 to n-1.\n\n\n# Generator function to yield squares of numbers from 0 to n-1\ndef square_generator(n):\n    for i in range(n):\n        yield i * i\n\n# Using the generator function to print squares of numbers from 0 to 4\ngen = square_generator(5)\n\nprint(\"Generator output (squares of numbers from 0 to 4):\")\nfor value in gen:\n    print(value)\n\n",
      "metadata": {
        "trusted": true
      },
      "outputs": [
        {
          "name": "stdout",
          "output_type": "stream",
          "text": "Generator output (squares of numbers from 0 to 4):\n0\n1\n4\n9\n16\n"
        }
      ],
      "execution_count": 4
    },
    {
      "id": "1325add9-d21c-4474-bcd7-3b1c3c58daf7",
      "cell_type": "code",
      "source": "#Q5. Create a generator function for prime numbers less than 1000. Use the next() method to print the first 20 prime numbers.\n\n\ndef is_prime(num):\n    \"\"\"Helper function to check if a number is prime.\"\"\"\n    if num < 2:\n        return False\n    for i in range(2, int(num**0.5) + 1):\n        if num % i == 0:\n            return False\n    return True\n\ndef prime_generator():\n    \"\"\"Generator function that yields prime numbers less than 1000.\"\"\"\n    for num in range(2, 1000):\n        if is_prime(num):\n            yield num\n\n# Creating an instance of the generator\nprime_gen = prime_generator()\n\nprint(\"The first 20 prime numbers less than 1000:\")\nfor _ in range(20):\n    # Using next() to get the next prime number from the generator\n    print(next(prime_gen))\n",
      "metadata": {
        "trusted": true
      },
      "outputs": [
        {
          "name": "stdout",
          "output_type": "stream",
          "text": "The first 20 prime numbers less than 1000:\n2\n3\n5\n7\n11\n13\n17\n19\n23\n29\n31\n37\n41\n43\n47\n53\n59\n61\n67\n71\n"
        }
      ],
      "execution_count": 5
    },
    {
      "id": "50d479ec-5ab4-472c-a960-ebc4235318da",
      "cell_type": "code",
      "source": "#Q6. Write a python program to print the first 10 Fibonacci numbers using a while loop.\n\n\n# Initialize the first two Fibonacci numbers\na, b = 0, 1\ncount = 0\n\nprint(\"The first 10 Fibonacci numbers:\")\n\n# Using a while loop to iterate until we have printed 10 numbers\nwhile count < 10:\n    print(a, end=\" \")\n    # Update the Fibonacci numbers\n    a, b = b, a + b\n    count += 1\n",
      "metadata": {
        "trusted": true
      },
      "outputs": [
        {
          "name": "stdout",
          "output_type": "stream",
          "text": "The first 10 Fibonacci numbers:\n0 1 1 2 3 5 8 13 21 34 "
        }
      ],
      "execution_count": 6
    },
    {
      "id": "5f305f23-91ef-4dd3-b5d4-3777026e7964",
      "cell_type": "code",
      "source": "#Q7. Write a List Comprehension to iterate through the given string: ‘pwskills’. Expected output: ['p', 'w', 's', 'k', 'i', 'l', 'l', 's']\n\n\n# Given string\ns = 'pwskills'\n\n# Using list comprehension to iterate through each character in the string\nchars_list = [char for char in s]\n\n# Printing the resulting list\nprint(chars_list)\n",
      "metadata": {
        "trusted": true
      },
      "outputs": [
        {
          "name": "stdout",
          "output_type": "stream",
          "text": "['p', 'w', 's', 'k', 'i', 'l', 'l', 's']\n"
        }
      ],
      "execution_count": 7
    },
    {
      "id": "969656b6-ab21-4fd0-b00d-6ee94dc1c548",
      "cell_type": "code",
      "source": "#Q8. Write a python program to check whether a given number is Palindrome or not using a while loop.\n\n\n# Given number (you can change this value for testing)\nnumber = 121\n\n# Store the original number for later comparison\noriginal = number\n\n# Initialize variable to store the reversed number\nreversed_num = 0\n\n# Using a while loop to reverse the digits of the number\nwhile number > 0:\n    digit = number % 10          # Extract the last digit\n    reversed_num = reversed_num * 10 + digit  # Append the digit to the reversed number\n    number = number // 10        # Remove the last digit from the number\n\n# Check if the original number is equal to its reversed version\nif original == reversed_num:\n    print(f\"{original} is a palindrome.\")\nelse:\n    print(f\"{original} is not a palindrome.\")\n\n",
      "metadata": {
        "trusted": true
      },
      "outputs": [
        {
          "name": "stdout",
          "output_type": "stream",
          "text": "121 is a palindrome.\n"
        }
      ],
      "execution_count": 8
    },
    {
      "id": "5b0bcfec-283c-4df1-af6e-79f83c699083",
      "cell_type": "code",
      "source": "#Q9. Write a code to print odd numbers from 1 to 100 using list comprehension. Note: Use a list comprehension to create a list from 1 to 100 and use another List comprehension to filter Out odd numbers.\n\n\n# Create a list of numbers from 1 to 100 using list comprehension\nnumbers = [x for x in range(1, 101)]\n\n# Filter out the odd numbers from the list using another list comprehension\nodd_numbers = [num for num in numbers if num % 2 != 0]\n\n# Print the resulting list of odd numbers\nprint(\"Odd numbers from 1 to 100:\", odd_numbers)\n",
      "metadata": {
        "trusted": true
      },
      "outputs": [
        {
          "name": "stdout",
          "output_type": "stream",
          "text": "Odd numbers from 1 to 100: [1, 3, 5, 7, 9, 11, 13, 15, 17, 19, 21, 23, 25, 27, 29, 31, 33, 35, 37, 39, 41, 43, 45, 47, 49, 51, 53, 55, 57, 59, 61, 63, 65, 67, 69, 71, 73, 75, 77, 79, 81, 83, 85, 87, 89, 91, 93, 95, 97, 99]\n"
        }
      ],
      "execution_count": 9
    },
    {
      "id": "9716f599-badd-4db1-b874-aa85e02448ca",
      "cell_type": "code",
      "source": "",
      "metadata": {
        "trusted": true
      },
      "outputs": [],
      "execution_count": null
    }
  ]
}